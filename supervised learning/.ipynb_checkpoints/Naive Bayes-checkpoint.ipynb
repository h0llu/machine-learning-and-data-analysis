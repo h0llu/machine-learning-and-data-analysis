{
 "cells": [
  {
   "cell_type": "code",
   "execution_count": 7,
   "id": "026d7a39",
   "metadata": {},
   "outputs": [],
   "source": [
    "from sklearn.datasets import load_digits, load_breast_cancer\n",
    "from sklearn.model_selection import cross_val_score\n",
    "from sklearn.naive_bayes import BernoulliNB, MultinomialNB, GaussianNB"
   ]
  },
  {
   "cell_type": "code",
   "execution_count": 12,
   "id": "4160c4df",
   "metadata": {},
   "outputs": [],
   "source": [
    "digits_X, digits_y = load_digits()['data'], load_digits()['target']\n",
    "cancer_X, cancer_y = load_breast_cancer()['data'], load_breast_cancer()['target']"
   ]
  },
  {
   "cell_type": "code",
   "execution_count": 20,
   "id": "d0f28f01",
   "metadata": {},
   "outputs": [
    {
     "data": {
      "text/plain": [
       "(0.6274181027790716, 0.8963204471355379, 0.9385188635305075)"
      ]
     },
     "execution_count": 20,
     "metadata": {},
     "output_type": "execute_result"
    }
   ],
   "source": [
    "# Q1\n",
    "cross_val_score(BernoulliNB(), cancer_X, cancer_y).mean(), \\\n",
    "    cross_val_score(MultinomialNB(), cancer_X, cancer_y).mean(), \\\n",
    "        cross_val_score(GaussianNB(), cancer_X, cancer_y).mean()"
   ]
  },
  {
   "cell_type": "code",
   "execution_count": 9,
   "id": "c66144ce",
   "metadata": {},
   "outputs": [],
   "source": [
    "# Q2\n",
    "cross_val_score(BernoulliNB(), digits_X, digits_y).mean(), \\\n",
    "    cross_val_score(MultinomialNB(), digits_X, digits_y).mean(), \\\n",
    "        cross_val_score(GaussianNB(), digits_X, digits_y).mean()"
   ]
  },
  {
   "cell_type": "code",
   "execution_count": 16,
   "id": "137d2c8c",
   "metadata": {},
   "outputs": [],
   "source": [
    "# Q3"
   ]
  },
  {
   "cell_type": "code",
   "execution_count": null,
   "id": "da13e0ad",
   "metadata": {},
   "outputs": [],
   "source": []
  }
 ],
 "metadata": {
  "kernelspec": {
   "display_name": "Python 3 (ipykernel)",
   "language": "python",
   "name": "python3"
  },
  "language_info": {
   "codemirror_mode": {
    "name": "ipython",
    "version": 3
   },
   "file_extension": ".py",
   "mimetype": "text/x-python",
   "name": "python",
   "nbconvert_exporter": "python",
   "pygments_lexer": "ipython3",
   "version": "3.8.10"
  }
 },
 "nbformat": 4,
 "nbformat_minor": 5
}
