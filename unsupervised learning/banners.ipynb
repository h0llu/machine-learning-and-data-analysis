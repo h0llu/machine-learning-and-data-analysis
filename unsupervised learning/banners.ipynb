{
 "cells": [
  {
   "cell_type": "code",
   "execution_count": 33,
   "id": "243714ba-51d9-4bc9-b3b7-62b0b13b7e89",
   "metadata": {},
   "outputs": [],
   "source": [
    "import pandas as pd\n",
    "import numpy as np\n",
    "from sklearn.cluster import MeanShift"
   ]
  },
  {
   "cell_type": "code",
   "execution_count": 44,
   "id": "eba9f175-0b8f-4d04-8686-e068534df46f",
   "metadata": {},
   "outputs": [
    {
     "name": "stderr",
     "output_type": "stream",
     "text": [
      "C:\\Everything\\IT Programs\\anaconda3\\lib\\site-packages\\IPython\\core\\interactiveshell.py:3444: DtypeWarning: Columns (0) have mixed types.Specify dtype option on import or set low_memory=False.\n",
      "  exec(code_obj, self.user_global_ns, self.user_ns)\n"
     ]
    },
    {
     "data": {
      "text/html": [
       "<div>\n",
       "<style scoped>\n",
       "    .dataframe tbody tr th:only-of-type {\n",
       "        vertical-align: middle;\n",
       "    }\n",
       "\n",
       "    .dataframe tbody tr th {\n",
       "        vertical-align: top;\n",
       "    }\n",
       "\n",
       "    .dataframe thead th {\n",
       "        text-align: right;\n",
       "    }\n",
       "</style>\n",
       "<table border=\"1\" class=\"dataframe\">\n",
       "  <thead>\n",
       "    <tr style=\"text-align: right;\">\n",
       "      <th></th>\n",
       "      <th>latitude</th>\n",
       "      <th>longitude</th>\n",
       "    </tr>\n",
       "  </thead>\n",
       "  <tbody>\n",
       "    <tr>\n",
       "      <th>1</th>\n",
       "      <td>38.895112</td>\n",
       "      <td>-77.036366</td>\n",
       "    </tr>\n",
       "    <tr>\n",
       "      <th>3</th>\n",
       "      <td>33.800745</td>\n",
       "      <td>-84.410520</td>\n",
       "    </tr>\n",
       "    <tr>\n",
       "      <th>7</th>\n",
       "      <td>45.523452</td>\n",
       "      <td>-122.676207</td>\n",
       "    </tr>\n",
       "    <tr>\n",
       "      <th>9</th>\n",
       "      <td>40.764462</td>\n",
       "      <td>-111.904565</td>\n",
       "    </tr>\n",
       "    <tr>\n",
       "      <th>10</th>\n",
       "      <td>33.448377</td>\n",
       "      <td>-112.074037</td>\n",
       "    </tr>\n",
       "    <tr>\n",
       "      <th>...</th>\n",
       "      <td>...</td>\n",
       "      <td>...</td>\n",
       "    </tr>\n",
       "    <tr>\n",
       "      <th>233788</th>\n",
       "      <td>33.575000</td>\n",
       "      <td>-117.725556</td>\n",
       "    </tr>\n",
       "    <tr>\n",
       "      <th>233789</th>\n",
       "      <td>37.629349</td>\n",
       "      <td>-122.400087</td>\n",
       "    </tr>\n",
       "    <tr>\n",
       "      <th>233793</th>\n",
       "      <td>29.762884</td>\n",
       "      <td>-95.383061</td>\n",
       "    </tr>\n",
       "    <tr>\n",
       "      <th>233797</th>\n",
       "      <td>32.802955</td>\n",
       "      <td>-96.769923</td>\n",
       "    </tr>\n",
       "    <tr>\n",
       "      <th>233798</th>\n",
       "      <td>37.774929</td>\n",
       "      <td>-122.419415</td>\n",
       "    </tr>\n",
       "  </tbody>\n",
       "</table>\n",
       "<p>100000 rows × 2 columns</p>\n",
       "</div>"
      ],
      "text/plain": [
       "         latitude   longitude\n",
       "1       38.895112  -77.036366\n",
       "3       33.800745  -84.410520\n",
       "7       45.523452 -122.676207\n",
       "9       40.764462 -111.904565\n",
       "10      33.448377 -112.074037\n",
       "...           ...         ...\n",
       "233788  33.575000 -117.725556\n",
       "233789  37.629349 -122.400087\n",
       "233793  29.762884  -95.383061\n",
       "233797  32.802955  -96.769923\n",
       "233798  37.774929 -122.419415\n",
       "\n",
       "[100000 rows x 2 columns]"
      ]
     },
     "execution_count": 44,
     "metadata": {},
     "output_type": "execute_result"
    }
   ],
   "source": [
    "data = pd.read_csv('checkins.dat', sep='|', skipinitialspace=True, skiprows=[1])\n",
    "data = data.dropna()\n",
    "data.rename(columns={'latitude      ': 'latitude', 'longitude     ': 'longitude'}, inplace=True)\n",
    "data = data.iloc[:100000, :].loc[:, ['latitude', 'longitude']]\n",
    "\n",
    "data"
   ]
  },
  {
   "cell_type": "code",
   "execution_count": 45,
   "id": "fcff6051-b17d-400c-a157-b20b7dd2c02e",
   "metadata": {},
   "outputs": [
    {
     "data": {
      "text/plain": [
       "MeanShift(bandwidth=0.1)"
      ]
     },
     "execution_count": 45,
     "metadata": {},
     "output_type": "execute_result"
    }
   ],
   "source": [
    "ms = MeanShift(bandwidth=0.1)\n",
    "ms.fit(data)"
   ]
  },
  {
   "cell_type": "code",
   "execution_count": 46,
   "id": "d2dd95b5-9ad0-4d0e-8afb-83cdba5d5ab8",
   "metadata": {},
   "outputs": [],
   "source": [
    "labels = ms.labels_\n",
    "cluster_centers = ms.cluster_centers_\n",
    "\n",
    "labels_unique = np.unique(labels)"
   ]
  },
  {
   "cell_type": "code",
   "execution_count": 48,
   "id": "6204a34a-bc5e-4c9f-aacd-177d8f3791d8",
   "metadata": {},
   "outputs": [
    {
     "data": {
      "text/plain": [
       "array([[  39.95168037,  -75.16273592],\n",
       "       [  34.03548695, -118.43899772],\n",
       "       [  32.98089338, -117.07811798],\n",
       "       ...,\n",
       "       [ -37.8229826 ,  145.1811902 ],\n",
       "       [ -41.2924945 ,  174.7732353 ],\n",
       "       [ -45.0311622 ,  168.6626435 ]])"
      ]
     },
     "execution_count": 48,
     "metadata": {},
     "output_type": "execute_result"
    }
   ],
   "source": [
    "cluster_centers_best = cluster_centers[labels_unique[labels_unique > 15]]\n",
    "\n",
    "cluster_centers_best"
   ]
  }
 ],
 "metadata": {
  "kernelspec": {
   "display_name": "Python 3 (ipykernel)",
   "language": "python",
   "name": "python3"
  },
  "language_info": {
   "codemirror_mode": {
    "name": "ipython",
    "version": 3
   },
   "file_extension": ".py",
   "mimetype": "text/x-python",
   "name": "python",
   "nbconvert_exporter": "python",
   "pygments_lexer": "ipython3",
   "version": "3.9.7"
  }
 },
 "nbformat": 4,
 "nbformat_minor": 5
}
